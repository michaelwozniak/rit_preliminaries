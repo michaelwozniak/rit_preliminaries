{
 "cells": [
  {
   "cell_type": "code",
   "execution_count": 62,
   "metadata": {},
   "outputs": [
    {
     "data": {
      "text/html": [
       "<style>.container { width:80% !important; }</style>"
      ],
      "text/plain": [
       "<IPython.core.display.HTML object>"
      ]
     },
     "metadata": {},
     "output_type": "display_data"
    }
   ],
   "source": [
    "import pandas as pd\n",
    "import numpy as np\n",
    "import matplotlib as mpl\n",
    "import matplotlib.pyplot as plt\n",
    "%matplotlib inline\n",
    "import matplotlib.pylab as pylab\n",
    "plt.style.use('bmh')\n",
    "params = {'legend.fontsize': 'x-large',\n",
    "          'figure.figsize': (20, 10),\n",
    "         'axes.labelsize': 'x-large',\n",
    "         'axes.titlesize':'x-large',\n",
    "         'xtick.labelsize':'x-large',\n",
    "         'ytick.labelsize':'x-large'}\n",
    "from IPython.core.display import display, HTML\n",
    "pylab.rcParams.update(params)\n",
    "display(HTML(\"<style>.container { width:80% !important; }</style>\"))\n",
    "pd.set_option('display.max_columns', None)\n",
    "from sklearn.preprocessing import StandardScaler"
   ]
  },
  {
   "cell_type": "markdown",
   "metadata": {},
   "source": [
    "# Breakouts\n",
    "A breakout strategy seeks to capitalize on short term movements. A trader using a breakout strategy will seek to gain from buying just before a commodity price moves substantially higher or selling just before a price moves substantially lower.\n",
    "\n",
    "MODEL ENSEMBLE + RSI + MA + brak obostrzeń na zmienność"
   ]
  },
  {
   "cell_type": "code",
   "execution_count": 72,
   "metadata": {},
   "outputs": [],
   "source": [
    "df = pd.read_csv(\"y_hat_final.csv\")\n",
    "df['Date'] =  pd.to_datetime(df['Date'])\n",
    "df.set_index(\"Date\",inplace=True)\n",
    "df.shape\n",
    "df.rename(columns={\"y\":\"Close\"},inplace=True)\n",
    "\n",
    "signals = pd.DataFrame(index=df.index)\n",
    "signals['signal'] = 0.0\n",
    "signals[\"y_hat\"] = df.y_hat\n",
    "signals[\"y\"] = df.Close\n",
    "\n",
    "signals[\"y_tmp\"] = signals.y.shift()\n",
    "signals.fillna(0, inplace=True)\n",
    "\n",
    "signals[\"e_rr\"] = (signals.y_hat-signals.y_tmp)/(signals.y_tmp)*100\n",
    "signals[\"true_rr\"] = (signals.y-signals.y_tmp)/(signals.y_tmp)*100\n",
    "\n",
    "signals = signals[[\"signal\",'e_rr',\"true_rr\"]]\n",
    "\n",
    "signals[\"e_rr\"][0] = 0\n",
    "\n",
    "signals.signal = np.where(signals['e_rr']>0.2, 1, np.where(signals['e_rr']<-0.2, -1, 0))\n",
    "\n",
    "signals.signal.value_counts()\n",
    "\n",
    "signals[\"num\"] = [x for x in (range(len(signals.index)))]"
   ]
  },
  {
   "cell_type": "code",
   "execution_count": 73,
   "metadata": {},
   "outputs": [
    {
     "name": "stdout",
     "output_type": "stream",
     "text": [
      "6 12\n"
     ]
    }
   ],
   "source": [
    "signals_ma = pd.DataFrame(index=df.index)\n",
    "signals_ma['signal'] = 0.0\n",
    "short_window = int(0.025 * len(df))\n",
    "long_window = int(0.05 * len(df))\n",
    "print(short_window,long_window)\n",
    "df.rename(columns={\"y\":\"Close\"},inplace=True)\n",
    "signals_ma['short_ma'] = df['Close'].rolling(window=short_window, min_periods=1, center=False).mean()\n",
    "signals_ma['long_ma'] = df['Close'].rolling(window=long_window, min_periods=1, center=False).mean()\n",
    "signals_ma['signal'][short_window:] = np.where(signals_ma['short_ma'][short_window:] \n",
    "                                            > signals_ma['long_ma'][short_window:], 1.0, 0.0)   \n",
    "signals_ma['positions'] = signals_ma['signal'].diff()\n",
    "signals_ma = signals_ma[[\"positions\"]]"
   ]
  },
  {
   "cell_type": "code",
   "execution_count": 89,
   "metadata": {},
   "outputs": [],
   "source": [
    "import talib\n",
    "signals_rsi = pd.DataFrame(index=df.index)\n",
    "signals_rsi[\"rsi\"] = talib.RSI(df.Close.shift(1))\n",
    "signals_rsi[\"rsi_t-1\"] = signals_rsi.rsi.shift(1)\n",
    "signals_rsi[\"buy\"] = np.where((signals_rsi.rsi>=30) & (signals_rsi[\"rsi_t-1\"]<30),1,0)\n",
    "signals_rsi[\"sell\"] = np.where((signals_rsi.rsi<=70) & (signals_rsi[\"rsi_t-1\"]>70),-1,0)\n",
    "signals_rsi[\"signal_rsi\"] = signals_rsi[\"buy\"] + signals_rsi[\"sell\"]"
   ]
  },
  {
   "cell_type": "code",
   "execution_count": 90,
   "metadata": {},
   "outputs": [],
   "source": [
    "sig = pd.concat([signals,signals_ma,signals_rsi],axis=1)\n",
    "sig = sig[[\"signal\",\"positions\",\"signal_rsi\"]]"
   ]
  },
  {
   "cell_type": "code",
   "execution_count": 93,
   "metadata": {},
   "outputs": [],
   "source": [
    "sig = sig.rename(columns={\"signal\":\"signal_ensemble\",\"positions\":\"signal_ma\"})"
   ]
  },
  {
   "cell_type": "code",
   "execution_count": 97,
   "metadata": {},
   "outputs": [],
   "source": [
    "sig[\"sumka\"] = sig.signal_ensemble + sig.signal_ma + sig.signal_rsi"
   ]
  },
  {
   "cell_type": "code",
   "execution_count": 99,
   "metadata": {},
   "outputs": [],
   "source": [
    "sig[sig.sumka==-2] = -1"
   ]
  },
  {
   "cell_type": "code",
   "execution_count": 101,
   "metadata": {},
   "outputs": [
    {
     "data": {
      "text/plain": [
       " 0.0    177\n",
       "-1.0     38\n",
       " 1.0     36\n",
       "Name: sumka, dtype: int64"
      ]
     },
     "execution_count": 101,
     "metadata": {},
     "output_type": "execute_result"
    }
   ],
   "source": [
    "sig.sumka.value_counts()"
   ]
  },
  {
   "cell_type": "code",
   "execution_count": 102,
   "metadata": {},
   "outputs": [],
   "source": [
    "def buy_stock(\n",
    "    real_movement,\n",
    "    signal,\n",
    "    initial_money = 10000,\n",
    "    max_buy = 1000,\n",
    "    max_sell = 1000\n",
    "):\n",
    "    \"\"\"\n",
    "    real_movement = actual movement in the real world\n",
    "    delay = how much interval you want to delay to change our decision from buy to sell, vice versa\n",
    "    initial_state = 1 is buy, 0 is sell\n",
    "    initial_money = 1000, ignore what kind of currency\n",
    "    max_buy = max quantity for share to buy\n",
    "    max_sell = max quantity for share to sell\n",
    "    \"\"\"\n",
    "    starting_money = initial_money\n",
    "    states_sell = []\n",
    "    states_buy = []\n",
    "    current_inventory = 0\n",
    "\n",
    "    def buy(i, initial_money, current_inventory):\n",
    "        shares = initial_money // real_movement[i]\n",
    "        if shares < 1:\n",
    "            print(\n",
    "                'day %d: total balances %f, not enough money to buy a unit price %f'\n",
    "                % (i, initial_money, real_movement[i])\n",
    "            )\n",
    "        else:\n",
    "            if shares > max_buy:\n",
    "                buy_units = max_buy\n",
    "            else:\n",
    "                buy_units = shares\n",
    "            initial_money -= buy_units * real_movement[i]\n",
    "            current_inventory += buy_units\n",
    "            print(\n",
    "                'day %d: buy %d units at price %f, total balance %f'\n",
    "                % (i, buy_units, buy_units * real_movement[i], initial_money)\n",
    "            )\n",
    "            states_buy.append(0)\n",
    "        return initial_money, current_inventory\n",
    "\n",
    "    for i in range(real_movement.shape[0]):\n",
    "        state = signal[i]\n",
    "        if state == 1:\n",
    "            initial_money, current_inventory = buy(\n",
    "                i, initial_money, current_inventory\n",
    "            )\n",
    "            states_buy.append(i)\n",
    "        elif state == -1:\n",
    "            if current_inventory == 0:\n",
    "                    print('day %d: cannot sell anything, inventory 0' % (i))\n",
    "            else:\n",
    "                if current_inventory > max_sell:\n",
    "                    sell_units = max_sell\n",
    "                else:\n",
    "                    sell_units = current_inventory\n",
    "                current_inventory -= sell_units\n",
    "                total_sell = sell_units * real_movement[i]\n",
    "                initial_money += total_sell\n",
    "                try:\n",
    "                    invest = (\n",
    "                        (real_movement[i] - real_movement[states_buy[-1]])\n",
    "                        / real_movement[states_buy[-1]]\n",
    "                    ) * 100\n",
    "                except:\n",
    "                    invest = 0\n",
    "                print(\n",
    "                    'day %d, sell %d units at price %f, investment %f %%, total balance %f,'\n",
    "                    % (i, sell_units, total_sell, invest, initial_money)\n",
    "                )\n",
    "            states_sell.append(i)\n",
    "    try:\n",
    "        adj = (current_inventory*real_movement[-1])\n",
    "    except:\n",
    "        adj = 0\n",
    "            \n",
    "    invest = ((initial_money + adj - starting_money) / starting_money) * 100\n",
    "    total_gains = initial_money + adj - starting_money\n",
    "    return states_buy, states_sell, total_gains, invest"
   ]
  },
  {
   "cell_type": "code",
   "execution_count": 103,
   "metadata": {},
   "outputs": [
    {
     "name": "stdout",
     "output_type": "stream",
     "text": [
      "day 2: cannot sell anything, inventory 0\n",
      "day 3: cannot sell anything, inventory 0\n",
      "day 4: cannot sell anything, inventory 0\n",
      "day 10: cannot sell anything, inventory 0\n",
      "day 11: cannot sell anything, inventory 0\n",
      "day 13: buy 1000 units at price 1351.100000, total balance 8648.900000\n",
      "day 15: buy 1000 units at price 1322.400000, total balance 7326.500000\n",
      "day 17: buy 1000 units at price 1259.500000, total balance 6067.000000\n",
      "day 18, sell 1000 units at price 1329.000000, investment 5.518063 %, total balance 7396.000000,\n",
      "day 24: buy 1000 units at price 1347.800000, total balance 6048.200000\n",
      "day 27, sell 1000 units at price 1425.100000, investment 5.735272 %, total balance 7473.300000,\n",
      "day 29: buy 1000 units at price 1401.600000, total balance 6071.700000\n",
      "day 30: buy 1000 units at price 1364.000000, total balance 4707.700000\n",
      "day 35: buy 1000 units at price 1403.800000, total balance 3303.900000\n",
      "day 36: buy 1000 units at price 1386.300000, total balance 1917.600000\n",
      "day 38: buy 1000 units at price 1389.000000, total balance 528.600000\n",
      "day 39: buy 396 units at price 528.224400, total balance 0.375600\n",
      "day 40: total balances 0.375600, not enough money to buy a unit price 1.348900\n",
      "day 41: total balances 0.375600, not enough money to buy a unit price 1.385700\n",
      "day 43, sell 1000 units at price 1438.500000, investment 3.810349 %, total balance 1438.875600,\n",
      "day 44: buy 1000 units at price 1432.100000, total balance 6.775600\n",
      "day 47: buy 4 units at price 5.707200, total balance 1.068400\n",
      "day 49: total balances 1.068400, not enough money to buy a unit price 1.419900\n",
      "day 52: total balances 1.068400, not enough money to buy a unit price 1.508600\n",
      "day 54: total balances 1.068400, not enough money to buy a unit price 1.563500\n",
      "day 55: total balances 1.068400, not enough money to buy a unit price 1.597500\n",
      "day 56: total balances 1.068400, not enough money to buy a unit price 1.615200\n",
      "day 57: total balances 1.068400, not enough money to buy a unit price 1.607700\n",
      "day 59: total balances 1.068400, not enough money to buy a unit price 1.587000\n",
      "day 60: total balances 1.068400, not enough money to buy a unit price 1.634300\n",
      "day 61, sell 1000 units at price 1753.100000, investment 7.269167 %, total balance 1754.168400,\n",
      "day 81: buy 933 units at price 1753.293600, total balance 0.874800\n",
      "day 83, sell 1000 units at price 1899.400000, investment 1.074926 %, total balance 1900.274800,\n",
      "day 84, sell 1000 units at price 1928.100000, investment 2.602171 %, total balance 3828.374800,\n",
      "day 85, sell 1000 units at price 1951.900000, investment 3.868668 %, total balance 5780.274800,\n",
      "day 90, sell 1000 units at price 2069.500000, investment 10.126650 %, total balance 7849.774800,\n",
      "day 93, sell 1000 units at price 2013.200000, investment 7.130694 %, total balance 9862.974800,\n",
      "day 97, sell 1000 units at price 2130.100000, investment 13.351426 %, total balance 11993.074800,\n",
      "day 101, sell 1000 units at price 2100.900000, investment 11.797573 %, total balance 14093.974800,\n",
      "day 104, sell 333 units at price 687.545100, investment 9.871222 %, total balance 14781.519900,\n",
      "day 124: buy 1000 units at price 1874.700000, total balance 12906.819900\n",
      "day 125: buy 1000 units at price 1769.500000, total balance 11137.319900\n",
      "day 126: buy 1000 units at price 1740.600000, total balance 9396.719900\n",
      "day 130: buy 1000 units at price 1737.500000, total balance 7659.219900\n",
      "day 133: buy 1000 units at price 1684.600000, total balance 5974.619900\n",
      "day 134: buy 1000 units at price 1723.300000, total balance 4251.319900\n",
      "day 138: buy 1000 units at price 1734.300000, total balance 2517.019900\n",
      "day 139, sell 1000 units at price 1787.900000, investment 3.090584 %, total balance 4304.919900,\n",
      "day 140, sell 1000 units at price 1853.300000, investment 6.861558 %, total balance 6158.219900,\n",
      "day 143, sell 1000 units at price 1969.100000, investment 13.538603 %, total balance 8127.319900,\n",
      "day 148, sell 1000 units at price 1914.900000, investment 10.413423 %, total balance 10042.219900,\n",
      "day 152, sell 1000 units at price 2005.800000, investment 15.654731 %, total balance 12048.019900,\n",
      "day 157, sell 1000 units at price 1877.400000, investment 8.251168 %, total balance 13925.419900,\n",
      "day 165: buy 1000 units at price 1863.000000, total balance 12062.419900\n",
      "day 172: buy 1000 units at price 1619.600000, total balance 10442.819900\n",
      "day 173: buy 1000 units at price 1645.600000, total balance 8797.219900\n",
      "day 176, sell 1000 units at price 1736.500000, investment 5.523821 %, total balance 10533.719900,\n",
      "day 181, sell 1000 units at price 1681.000000, investment 2.151191 %, total balance 12214.719900,\n",
      "day 182, sell 1000 units at price 1693.000000, investment 2.880408 %, total balance 13907.719900,\n",
      "day 187, sell 1000 units at price 1680.400000, investment 2.114730 %, total balance 15588.119900,\n",
      "day 189: buy 1000 units at price 1527.500000, total balance 14060.619900\n",
      "day 190: buy 1000 units at price 1471.200000, total balance 12589.419900\n",
      "day 192, sell 1000 units at price 1547.600000, investment 5.193040 %, total balance 14137.019900,\n",
      "day 193, sell 1000 units at price 1572.000000, investment 6.851550 %, total balance 15709.019900,\n",
      "day 198: buy 1000 units at price 1553.700000, total balance 14155.319900\n",
      "day 199, sell 1000 units at price 1753.000000, investment 12.827444 %, total balance 15908.319900,\n",
      "day 208: cannot sell anything, inventory 0\n",
      "day 212: cannot sell anything, inventory 0\n",
      "day 213: cannot sell anything, inventory 0\n",
      "day 226: cannot sell anything, inventory 0\n",
      "day 233: cannot sell anything, inventory 0\n",
      "day 234: cannot sell anything, inventory 0\n",
      "day 235: cannot sell anything, inventory 0\n",
      "day 247: cannot sell anything, inventory 0\n"
     ]
    }
   ],
   "source": [
    "# states_buy, states_sell, total_gains, invest = buy_stock(df.Close, signals['signal'])\n",
    "states_buy, states_sell, total_gains, invest = buy_stock(df.Close.shift(1).bfill(), sig['sumka'])"
   ]
  },
  {
   "cell_type": "code",
   "execution_count": 104,
   "metadata": {},
   "outputs": [
    {
     "name": "stderr",
     "output_type": "stream",
     "text": [
      "C:\\Users\\wozni\\AppData\\Local\\Continuum\\anaconda3\\lib\\site-packages\\pandas\\plotting\\_converter.py:129: FutureWarning: Using an implicitly registered datetime converter for a matplotlib plotting method. The converter was registered by pandas on import. Future versions of pandas will require you to explicitly register matplotlib converters.\n",
      "\n",
      "To register the converters:\n",
      "\t>>> from pandas.plotting import register_matplotlib_converters\n",
      "\t>>> register_matplotlib_converters()\n",
      "  warnings.warn(msg, FutureWarning)\n"
     ]
    },
    {
     "data": {
      "image/png": "[encoded data removed]",
      "text/plain": [
       "<Figure size 1080x360 with 1 Axes>"
      ]
     },
     "metadata": {
      "needs_background": "light"
     },
     "output_type": "display_data"
    }
   ],
   "source": [
    "close = df['Close']\n",
    "fig = plt.figure(figsize = (15,5))\n",
    "plt.plot(close, color='r', lw=2.)\n",
    "plt.plot(close, '^', markersize=10, color='m', label = 'buying signal', markevery = states_buy)\n",
    "plt.plot(close, 'v', markersize=10, color='k', label = 'selling signal', markevery = states_sell)\n",
    "plt.title('total gains %f, total investment %f%%'%(total_gains, invest))\n",
    "plt.legend()\n",
    "plt.show()"
   ]
  },
  {
   "cell_type": "code",
   "execution_count": null,
   "metadata": {},
   "outputs": [],
   "source": []
  }
 ],
 "metadata": {
  "kernelspec": {
   "display_name": "Python 3",
   "language": "python",
   "name": "python3"
  },
  "language_info": {
   "codemirror_mode": {
    "name": "ipython",
    "version": 3
   },
   "file_extension": ".py",
   "mimetype": "text/x-python",
   "name": "python",
   "nbconvert_exporter": "python",
   "pygments_lexer": "ipython3",
   "version": "3.7.3"
  }
 },
 "nbformat": 4,
 "nbformat_minor": 4
}
