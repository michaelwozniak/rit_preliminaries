{
 "cells": [
  {
   "cell_type": "code",
   "execution_count": 2,
   "metadata": {},
   "outputs": [
    {
     "data": {
      "text/html": [
       "<style>.container { width:80% !important; }</style>"
      ],
      "text/plain": [
       "<IPython.core.display.HTML object>"
      ]
     },
     "metadata": {},
     "output_type": "display_data"
    }
   ],
   "source": [
    "import pandas as pd\n",
    "import numpy as np\n",
    "import matplotlib as mpl\n",
    "import matplotlib.pyplot as plt\n",
    "%matplotlib inline\n",
    "import matplotlib.pylab as pylab\n",
    "plt.style.use('bmh')\n",
    "params = {'legend.fontsize': 'x-large',\n",
    "          'figure.figsize': (20, 10),\n",
    "         'axes.labelsize': 'x-large',\n",
    "         'axes.titlesize':'x-large',\n",
    "         'xtick.labelsize':'x-large',\n",
    "         'ytick.labelsize':'x-large'}\n",
    "from IPython.core.display import display, HTML\n",
    "pylab.rcParams.update(params)\n",
    "display(HTML(\"<style>.container { width:80% !important; }</style>\"))\n",
    "pd.set_option('display.max_columns', None)\n",
    "from sklearn.preprocessing import StandardScaler"
   ]
  },
  {
   "cell_type": "code",
   "execution_count": 21,
   "metadata": {},
   "outputs": [
    {
     "data": {
      "text/plain": [
       "(252, 2)"
      ]
     },
     "execution_count": 21,
     "metadata": {},
     "output_type": "execute_result"
    }
   ],
   "source": [
    "df = pd.read_csv(\"y_hat_final.csv\")\n",
    "df['Date'] =  pd.to_datetime(df['Date'])\n",
    "df.set_index(\"Date\",inplace=True)\n",
    "df.shape"
   ]
  },
  {
   "cell_type": "code",
   "execution_count": 23,
   "metadata": {},
   "outputs": [],
   "source": [
    "short_window = int(0.025 * len(df))\n",
    "long_window = int(0.05 * len(df))"
   ]
  },
  {
   "cell_type": "code",
   "execution_count": 24,
   "metadata": {},
   "outputs": [],
   "source": [
    "signals = pd.DataFrame(index=df.index)\n",
    "signals['signal'] = 0.0"
   ]
  },
  {
   "cell_type": "code",
   "execution_count": 25,
   "metadata": {},
   "outputs": [],
   "source": [
    "df.rename(columns={\"y\":\"Close\"},inplace=True)"
   ]
  },
  {
   "cell_type": "code",
   "execution_count": 26,
   "metadata": {},
   "outputs": [],
   "source": [
    "signals['short_ma'] = df['Close'].rolling(window=short_window, min_periods=1, center=False).mean()\n",
    "signals['long_ma'] = df['Close'].rolling(window=long_window, min_periods=1, center=False).mean()\n",
    "\n",
    "signals['signal'][short_window:] = np.where(signals['short_ma'][short_window:] \n",
    "                                            > signals['long_ma'][short_window:], 1.0, 0.0)   \n",
    "signals['positions'] = signals['signal'].diff()\n"
   ]
  },
  {
   "cell_type": "code",
   "execution_count": 31,
   "metadata": {},
   "outputs": [
    {
     "data": {
      "text/html": [
       "<div>\n",
       "<style scoped>\n",
       "    .dataframe tbody tr th:only-of-type {\n",
       "        vertical-align: middle;\n",
       "    }\n",
       "\n",
       "    .dataframe tbody tr th {\n",
       "        vertical-align: top;\n",
       "    }\n",
       "\n",
       "    .dataframe thead th {\n",
       "        text-align: right;\n",
       "    }\n",
       "</style>\n",
       "<table border=\"1\" class=\"dataframe\">\n",
       "  <thead>\n",
       "    <tr style=\"text-align: right;\">\n",
       "      <th></th>\n",
       "      <th>signal</th>\n",
       "      <th>short_ma</th>\n",
       "      <th>long_ma</th>\n",
       "      <th>positions</th>\n",
       "    </tr>\n",
       "    <tr>\n",
       "      <th>Date</th>\n",
       "      <th></th>\n",
       "      <th></th>\n",
       "      <th></th>\n",
       "      <th></th>\n",
       "    </tr>\n",
       "  </thead>\n",
       "  <tbody>\n",
       "    <tr>\n",
       "      <th>2018-11-30</th>\n",
       "      <td>0.0</td>\n",
       "      <td>1.397300</td>\n",
       "      <td>1.397300</td>\n",
       "      <td>NaN</td>\n",
       "    </tr>\n",
       "    <tr>\n",
       "      <th>2018-12-03</th>\n",
       "      <td>0.0</td>\n",
       "      <td>1.414400</td>\n",
       "      <td>1.414400</td>\n",
       "      <td>0.0</td>\n",
       "    </tr>\n",
       "    <tr>\n",
       "      <th>2018-12-04</th>\n",
       "      <td>0.0</td>\n",
       "      <td>1.423700</td>\n",
       "      <td>1.423700</td>\n",
       "      <td>0.0</td>\n",
       "    </tr>\n",
       "    <tr>\n",
       "      <th>2018-12-05</th>\n",
       "      <td>0.0</td>\n",
       "      <td>1.429925</td>\n",
       "      <td>1.429925</td>\n",
       "      <td>0.0</td>\n",
       "    </tr>\n",
       "    <tr>\n",
       "      <th>2018-12-06</th>\n",
       "      <td>0.0</td>\n",
       "      <td>1.431460</td>\n",
       "      <td>1.431460</td>\n",
       "      <td>0.0</td>\n",
       "    </tr>\n",
       "  </tbody>\n",
       "</table>\n",
       "</div>"
      ],
      "text/plain": [
       "            signal  short_ma   long_ma  positions\n",
       "Date                                             \n",
       "2018-11-30     0.0  1.397300  1.397300        NaN\n",
       "2018-12-03     0.0  1.414400  1.414400        0.0\n",
       "2018-12-04     0.0  1.423700  1.423700        0.0\n",
       "2018-12-05     0.0  1.429925  1.429925        0.0\n",
       "2018-12-06     0.0  1.431460  1.431460        0.0"
      ]
     },
     "execution_count": 31,
     "metadata": {},
     "output_type": "execute_result"
    }
   ],
   "source": [
    "signals.head()"
   ]
  },
  {
   "cell_type": "code",
   "execution_count": 27,
   "metadata": {},
   "outputs": [
    {
     "data": {
      "text/plain": [
       " 0.0    230\n",
       " 1.0     11\n",
       "-1.0     10\n",
       "Name: positions, dtype: int64"
      ]
     },
     "execution_count": 27,
     "metadata": {},
     "output_type": "execute_result"
    }
   ],
   "source": [
    "signals.positions.value_counts()"
   ]
  },
  {
   "cell_type": "code",
   "execution_count": 28,
   "metadata": {},
   "outputs": [],
   "source": [
    "\n",
    "def buy_stock(\n",
    "    real_movement,\n",
    "    signal,\n",
    "    initial_money = 10000,\n",
    "    max_buy = 1,\n",
    "    max_sell = 1,\n",
    "):\n",
    "    \"\"\"\n",
    "    real_movement = actual movement in the real world\n",
    "    delay = how much interval you want to delay to change our decision from buy to sell, vice versa\n",
    "    initial_state = 1 is buy, 0 is sell\n",
    "    initial_money = 1000, ignore what kind of currency\n",
    "    max_buy = max quantity for share to buy\n",
    "    max_sell = max quantity for share to sell\n",
    "    \"\"\"\n",
    "    starting_money = initial_money\n",
    "    states_sell = []\n",
    "    states_buy = []\n",
    "    current_inventory = 0\n",
    "\n",
    "    def buy(i, initial_money, current_inventory):\n",
    "        shares = initial_money // real_movement[i]\n",
    "        if shares < 1:\n",
    "            print(\n",
    "                'day %d: total balances %f, not enough money to buy a unit price %f'\n",
    "                % (i, initial_money, real_movement[i])\n",
    "            )\n",
    "        else:\n",
    "            if shares > max_buy:\n",
    "                buy_units = max_buy\n",
    "            else:\n",
    "                buy_units = shares\n",
    "            initial_money -= buy_units * real_movement[i]\n",
    "            current_inventory += buy_units\n",
    "            print(\n",
    "                'day %d: buy %d units at price %f, total balance %f'\n",
    "                % (i, buy_units, buy_units * real_movement[i], initial_money)\n",
    "            )\n",
    "            states_buy.append(0)\n",
    "        return initial_money, current_inventory\n",
    "\n",
    "    for i in range(real_movement.shape[0] - int(0.025 * len(df))):\n",
    "        state = signal[i]\n",
    "        if state == 1:\n",
    "            initial_money, current_inventory = buy(\n",
    "                i, initial_money, current_inventory\n",
    "            )\n",
    "            states_buy.append(i)\n",
    "        elif state == -1:\n",
    "            if current_inventory == 0:\n",
    "                    print('day %d: cannot sell anything, inventory 0' % (i))\n",
    "            else:\n",
    "                if current_inventory > max_sell:\n",
    "                    sell_units = max_sell\n",
    "                else:\n",
    "                    sell_units = current_inventory\n",
    "                current_inventory -= sell_units\n",
    "                total_sell = sell_units * real_movement[i]\n",
    "                initial_money += total_sell\n",
    "                try:\n",
    "                    invest = (\n",
    "                        (real_movement[i] - real_movement[states_buy[-1]])\n",
    "                        / real_movement[states_buy[-1]]\n",
    "                    ) * 100\n",
    "                except:\n",
    "                    invest = 0\n",
    "                print(\n",
    "                    'day %d, sell %d units at price %f, investment %f %%, total balance %f,'\n",
    "                    % (i, sell_units, total_sell, invest, initial_money)\n",
    "                )\n",
    "            states_sell.append(i)\n",
    "    invest = ((initial_money - starting_money) / starting_money) * 100\n",
    "    total_gains = initial_money - starting_money\n",
    "    return states_buy, states_sell, total_gains, invest"
   ]
  },
  {
   "cell_type": "code",
   "execution_count": 29,
   "metadata": {},
   "outputs": [
    {
     "name": "stdout",
     "output_type": "stream",
     "text": [
      "day 6: buy 1 units at price 1.420500, total balance 9998.579500\n",
      "day 11, sell 1 units at price 1.410300, investment -0.718057 %, total balance 9999.989800,\n",
      "day 24: buy 1 units at price 1.339400, total balance 9998.650400\n",
      "day 37, sell 1 units at price 1.389000, investment 3.703151 %, total balance 10000.039400,\n",
      "day 44: buy 1 units at price 1.426100, total balance 9998.613300\n",
      "day 83, sell 1 units at price 1.928100, investment 35.200898 %, total balance 10000.541400,\n",
      "day 86: buy 1 units at price 1.967900, total balance 9998.573500\n",
      "day 104, sell 1 units at price 2.016500, investment 2.469638 %, total balance 10000.590000,\n",
      "day 115: buy 1 units at price 2.046700, total balance 9998.543300\n",
      "day 120, sell 1 units at price 1.933500, investment -5.530855 %, total balance 10000.476800,\n",
      "day 138: buy 1 units at price 1.787900, total balance 9998.688900\n",
      "day 157, sell 1 units at price 1.835400, investment 2.656748 %, total balance 10000.524300,\n",
      "day 165: buy 1 units at price 1.894800, total balance 9998.629500\n",
      "day 168, sell 1 units at price 1.779200, investment -6.100908 %, total balance 10000.408700,\n",
      "day 180: buy 1 units at price 1.681000, total balance 9998.727700\n",
      "day 181, sell 1 units at price 1.693000, investment 0.713861 %, total balance 10000.420700,\n",
      "day 198: buy 1 units at price 1.753000, total balance 9998.667700\n",
      "day 208, sell 1 units at price 1.568100, investment -10.547633 %, total balance 10000.235800,\n",
      "day 217: buy 1 units at price 1.639000, total balance 9998.596800\n",
      "day 235, sell 1 units at price 1.626800, investment -0.744356 %, total balance 10000.223600,\n"
     ]
    }
   ],
   "source": [
    "states_buy, states_sell, total_gains, invest = buy_stock(df.Close, signals['positions'])"
   ]
  },
  {
   "cell_type": "code",
   "execution_count": 30,
   "metadata": {},
   "outputs": [
    {
     "name": "stderr",
     "output_type": "stream",
     "text": [
      "C:\\Users\\wozni\\AppData\\Local\\Continuum\\anaconda3\\lib\\site-packages\\pandas\\plotting\\_converter.py:129: FutureWarning: Using an implicitly registered datetime converter for a matplotlib plotting method. The converter was registered by pandas on import. Future versions of pandas will require you to explicitly register matplotlib converters.\n",
      "\n",
      "To register the converters:\n",
      "\t>>> from pandas.plotting import register_matplotlib_converters\n",
      "\t>>> register_matplotlib_converters()\n",
      "  warnings.warn(msg, FutureWarning)\n"
     ]
    },
    {
     "data": {
      "image/png": "[encoded data removed]",
      "text/plain": [
       "<Figure size 1080x360 with 1 Axes>"
      ]
     },
     "metadata": {
      "needs_background": "light"
     },
     "output_type": "display_data"
    }
   ],
   "source": [
    "close = df['Close']\n",
    "fig = plt.figure(figsize = (15,5))\n",
    "plt.plot(close, color='r', lw=2.)\n",
    "plt.plot(close, '^', markersize=10, color='m', label = 'buying signal', markevery = states_buy)\n",
    "plt.plot(close, 'v', markersize=10, color='k', label = 'selling signal', markevery = states_sell)\n",
    "plt.title('total gains %f, total investment %f%%'%(total_gains, invest))\n",
    "plt.legend()\n",
    "plt.show()"
   ]
  },
  {
   "cell_type": "code",
   "execution_count": null,
   "metadata": {},
   "outputs": [],
   "source": []
  }
 ],
 "metadata": {
  "kernelspec": {
   "display_name": "Python 3",
   "language": "python",
   "name": "python3"
  },
  "language_info": {
   "codemirror_mode": {
    "name": "ipython",
    "version": 3
   },
   "file_extension": ".py",
   "mimetype": "text/x-python",
   "name": "python",
   "nbconvert_exporter": "python",
   "pygments_lexer": "ipython3",
   "version": "3.7.3"
  }
 },
 "nbformat": 4,
 "nbformat_minor": 4
}
