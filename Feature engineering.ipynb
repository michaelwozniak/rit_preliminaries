{
 "cells": [
  {
   "cell_type": "markdown",
   "metadata": {},
   "source": [
    "## Feature engineering"
   ]
  },
  {
   "cell_type": "markdown",
   "metadata": {
    "ExecuteTime": {
     "end_time": "2019-11-30T19:28:06.724703Z",
     "start_time": "2019-11-30T19:28:06.720704Z"
    }
   },
   "source": [
    "What Drives the Price of Gasoline? \n",
    "Gasoline prices can fluctuate for many reasons but the most important ones include the following: \n",
    "1. Crude oil prices (~crude oil price t-1)\n",
    "2. Refining costs and profits (?)\n",
    "3. Distribution and miscellaneous costs (?)\n",
    "4. Seasonal demand (~time)\n",
    "5. Political events (~Google News --> high noise and close to stationary)\n",
    "6. Global demand picture (~S&P 500)\n",
    "\n",
    "Source: https://commodity.com/energy/rbob-gasoline/"
   ]
  },
  {
   "cell_type": "code",
   "execution_count": 77,
   "metadata": {
    "ExecuteTime": {
     "end_time": "2019-11-30T19:29:51.523255Z",
     "start_time": "2019-11-30T19:29:51.511240Z"
    }
   },
   "outputs": [
    {
     "data": {
      "text/html": [
       "<style>.container { width:80% !important; }</style>"
      ],
      "text/plain": [
       "<IPython.core.display.HTML object>"
      ]
     },
     "metadata": {},
     "output_type": "display_data"
    }
   ],
   "source": [
    "import pandas as pd\n",
    "import numpy as np\n",
    "import matplotlib as mpl\n",
    "import matplotlib.pyplot as plt\n",
    "%matplotlib inline\n",
    "import matplotlib.pylab as pylab\n",
    "plt.style.use('bmh')\n",
    "params = {'legend.fontsize': 'x-large',\n",
    "          'figure.figsize': (20, 10),\n",
    "         'axes.labelsize': 'x-large',\n",
    "         'axes.titlesize':'x-large',\n",
    "         'xtick.labelsize':'x-large',\n",
    "         'ytick.labelsize':'x-large'}\n",
    "from IPython.core.display import display, HTML\n",
    "pylab.rcParams.update(params)\n",
    "display(HTML(\"<style>.container { width:80% !important; }</style>\"))"
   ]
  },
  {
   "cell_type": "code",
   "execution_count": 78,
   "metadata": {
    "ExecuteTime": {
     "end_time": "2019-11-30T19:48:07.951203Z",
     "start_time": "2019-11-30T19:48:07.931196Z"
    }
   },
   "outputs": [],
   "source": [
    "df = pd.read_csv(\"rb_c_d.csv\")\n",
    "df.rename(columns={\"Otwarcie\":\"Open\",\"Najwyzszy\":\"y\",\"Najnizszy\":\"Low\",\"Zamkniecie\":\"Close\",\"Data\":\"Date\"},inplace=True)\n",
    "df['Date'] =  pd.to_datetime(df['Date'])\n",
    "df = df[df.Date>=\"2010-01-01\"]\n",
    "df.set_index(\"Date\",inplace=True)\n",
    "df = df[[\"y\"]]"
   ]
  },
  {
   "cell_type": "markdown",
   "metadata": {},
   "source": [
    "### Time"
   ]
  },
  {
   "cell_type": "code",
   "execution_count": 79,
   "metadata": {
    "ExecuteTime": {
     "end_time": "2019-11-30T19:48:09.375885Z",
     "start_time": "2019-11-30T19:48:09.227046Z"
    }
   },
   "outputs": [],
   "source": [
    "df[\"day_of_week\"] = df.index.dayofweek\n",
    "df[\"day_of_year\"] = df.index.dayofyear\n",
    "df[\"week\"] = df.index.week\n",
    "df[\"quarter\"] = df.index.quarter\n",
    "df[\"month\"] = df.index.month"
   ]
  },
  {
   "cell_type": "code",
   "execution_count": 80,
   "metadata": {
    "ExecuteTime": {
     "end_time": "2019-11-30T19:48:24.035017Z",
     "start_time": "2019-11-30T19:48:24.023017Z"
    }
   },
   "outputs": [
    {
     "data": {
      "text/html": [
       "<div>\n",
       "<style scoped>\n",
       "    .dataframe tbody tr th:only-of-type {\n",
       "        vertical-align: middle;\n",
       "    }\n",
       "\n",
       "    .dataframe tbody tr th {\n",
       "        vertical-align: top;\n",
       "    }\n",
       "\n",
       "    .dataframe thead th {\n",
       "        text-align: right;\n",
       "    }\n",
       "</style>\n",
       "<table border=\"1\" class=\"dataframe\">\n",
       "  <thead>\n",
       "    <tr style=\"text-align: right;\">\n",
       "      <th></th>\n",
       "      <th>y</th>\n",
       "      <th>day_of_week</th>\n",
       "      <th>day_of_year</th>\n",
       "      <th>week</th>\n",
       "      <th>quarter</th>\n",
       "      <th>month</th>\n",
       "    </tr>\n",
       "    <tr>\n",
       "      <th>Date</th>\n",
       "      <th></th>\n",
       "      <th></th>\n",
       "      <th></th>\n",
       "      <th></th>\n",
       "      <th></th>\n",
       "      <th></th>\n",
       "    </tr>\n",
       "  </thead>\n",
       "  <tbody>\n",
       "    <tr>\n",
       "      <th>2010-01-04</th>\n",
       "      <td>2.0856</td>\n",
       "      <td>0</td>\n",
       "      <td>4</td>\n",
       "      <td>1</td>\n",
       "      <td>1</td>\n",
       "      <td>1</td>\n",
       "    </tr>\n",
       "    <tr>\n",
       "      <th>2010-01-05</th>\n",
       "      <td>2.1137</td>\n",
       "      <td>1</td>\n",
       "      <td>5</td>\n",
       "      <td>1</td>\n",
       "      <td>1</td>\n",
       "      <td>1</td>\n",
       "    </tr>\n",
       "    <tr>\n",
       "      <th>2010-01-06</th>\n",
       "      <td>2.1228</td>\n",
       "      <td>2</td>\n",
       "      <td>6</td>\n",
       "      <td>1</td>\n",
       "      <td>1</td>\n",
       "      <td>1</td>\n",
       "    </tr>\n",
       "    <tr>\n",
       "      <th>2010-01-07</th>\n",
       "      <td>2.1200</td>\n",
       "      <td>3</td>\n",
       "      <td>7</td>\n",
       "      <td>1</td>\n",
       "      <td>1</td>\n",
       "      <td>1</td>\n",
       "    </tr>\n",
       "    <tr>\n",
       "      <th>2010-01-08</th>\n",
       "      <td>2.1450</td>\n",
       "      <td>4</td>\n",
       "      <td>8</td>\n",
       "      <td>1</td>\n",
       "      <td>1</td>\n",
       "      <td>1</td>\n",
       "    </tr>\n",
       "  </tbody>\n",
       "</table>\n",
       "</div>"
      ],
      "text/plain": [
       "                 y  day_of_week  day_of_year  week  quarter  month\n",
       "Date                                                              \n",
       "2010-01-04  2.0856            0            4     1        1      1\n",
       "2010-01-05  2.1137            1            5     1        1      1\n",
       "2010-01-06  2.1228            2            6     1        1      1\n",
       "2010-01-07  2.1200            3            7     1        1      1\n",
       "2010-01-08  2.1450            4            8     1        1      1"
      ]
     },
     "execution_count": 80,
     "metadata": {},
     "output_type": "execute_result"
    }
   ],
   "source": [
    "df.head()"
   ]
  },
  {
   "cell_type": "markdown",
   "metadata": {},
   "source": [
    "### S&P"
   ]
  },
  {
   "cell_type": "code",
   "execution_count": 81,
   "metadata": {},
   "outputs": [],
   "source": [
    "df_sandp = pd.read_csv(\"spx_d.csv\")"
   ]
  },
  {
   "cell_type": "code",
   "execution_count": 82,
   "metadata": {},
   "outputs": [],
   "source": [
    "df_sandp['Date'] =  pd.to_datetime(df_sandp['Date'])\n",
    "df_sandp.set_index(\"Date\",inplace=True)"
   ]
  },
  {
   "cell_type": "code",
   "execution_count": 83,
   "metadata": {},
   "outputs": [],
   "source": [
    "df_sandp = df_sandp.add_prefix(\"S&P_\")"
   ]
  },
  {
   "cell_type": "code",
   "execution_count": 84,
   "metadata": {},
   "outputs": [],
   "source": [
    "df = pd.merge(df,df_sandp,left_index=True,right_index=True,how=\"left\")"
   ]
  },
  {
   "cell_type": "markdown",
   "metadata": {},
   "source": [
    "### Crude Oil"
   ]
  },
  {
   "cell_type": "code",
   "execution_count": 85,
   "metadata": {},
   "outputs": [],
   "source": [
    "df_co = pd.read_csv(\"cl_c_d.csv\")\n",
    "df_co.rename(columns={\"Otwarcie\":\"Open\",\"Najwyzszy\":\"High\",\"Najnizszy\":\"Low\",\"Zamkniecie\":\"Close\",\"Data\":\"Date\"},inplace=True)\n",
    "df_co = df_co[[\"Date\",\"Close\"]]"
   ]
  },
  {
   "cell_type": "code",
   "execution_count": 86,
   "metadata": {},
   "outputs": [],
   "source": [
    "df_co['Date'] =  pd.to_datetime(df_co['Date'])\n",
    "df_co.set_index(\"Date\",inplace=True)"
   ]
  },
  {
   "cell_type": "code",
   "execution_count": 87,
   "metadata": {},
   "outputs": [],
   "source": [
    "df_co = df_co.add_prefix(\"CO_\")"
   ]
  },
  {
   "cell_type": "code",
   "execution_count": 88,
   "metadata": {},
   "outputs": [],
   "source": [
    "df = pd.merge(df,df_co,left_index=True,right_index=True,how=\"left\")"
   ]
  },
  {
   "cell_type": "code",
   "execution_count": 89,
   "metadata": {},
   "outputs": [],
   "source": [
    "del df_sandp, df_co"
   ]
  },
  {
   "cell_type": "markdown",
   "metadata": {},
   "source": [
    "### Gasoline RBOB - futures"
   ]
  },
  {
   "cell_type": "code",
   "execution_count": 103,
   "metadata": {},
   "outputs": [],
   "source": [
    "tmp = pd.read_csv(\"rb_f_d.csv\")\n",
    "tmp['Date'] =  pd.to_datetime(tmp['Date'])\n",
    "tmp = tmp[tmp.Date>=\"2010-01-01\"]\n",
    "tmp.set_index(\"Date\",inplace=True)\n",
    "tmp = tmp.add_prefix(\"RBOB_f__\")\n",
    "df = pd.merge(df,tmp,left_index=True,right_index=True,how='left')"
   ]
  },
  {
   "cell_type": "markdown",
   "metadata": {},
   "source": [
    "### DF"
   ]
  },
  {
   "cell_type": "code",
   "execution_count": 104,
   "metadata": {},
   "outputs": [
    {
     "data": {
      "text/html": [
       "<div>\n",
       "<style scoped>\n",
       "    .dataframe tbody tr th:only-of-type {\n",
       "        vertical-align: middle;\n",
       "    }\n",
       "\n",
       "    .dataframe tbody tr th {\n",
       "        vertical-align: top;\n",
       "    }\n",
       "\n",
       "    .dataframe thead th {\n",
       "        text-align: right;\n",
       "    }\n",
       "</style>\n",
       "<table border=\"1\" class=\"dataframe\">\n",
       "  <thead>\n",
       "    <tr style=\"text-align: right;\">\n",
       "      <th></th>\n",
       "      <th>y</th>\n",
       "      <th>day_of_week</th>\n",
       "      <th>day_of_year</th>\n",
       "      <th>week</th>\n",
       "      <th>quarter</th>\n",
       "      <th>month</th>\n",
       "      <th>S&amp;P_Open</th>\n",
       "      <th>S&amp;P_High</th>\n",
       "      <th>S&amp;P_Low</th>\n",
       "      <th>S&amp;P_Close</th>\n",
       "      <th>S&amp;P_Volume</th>\n",
       "      <th>CO_Close</th>\n",
       "      <th>RBOB_f__Open</th>\n",
       "      <th>RBOB_f__High</th>\n",
       "      <th>RBOB_f__Low</th>\n",
       "      <th>RBOB_f__Close</th>\n",
       "      <th>RBOB_f__Volume</th>\n",
       "      <th>RBOB_f__OpenInt</th>\n",
       "    </tr>\n",
       "    <tr>\n",
       "      <th>Date</th>\n",
       "      <th></th>\n",
       "      <th></th>\n",
       "      <th></th>\n",
       "      <th></th>\n",
       "      <th></th>\n",
       "      <th></th>\n",
       "      <th></th>\n",
       "      <th></th>\n",
       "      <th></th>\n",
       "      <th></th>\n",
       "      <th></th>\n",
       "      <th></th>\n",
       "      <th></th>\n",
       "      <th></th>\n",
       "      <th></th>\n",
       "      <th></th>\n",
       "      <th></th>\n",
       "      <th></th>\n",
       "    </tr>\n",
       "  </thead>\n",
       "  <tbody>\n",
       "    <tr>\n",
       "      <th>2010-01-04</th>\n",
       "      <td>2.0856</td>\n",
       "      <td>0</td>\n",
       "      <td>4</td>\n",
       "      <td>1</td>\n",
       "      <td>1</td>\n",
       "      <td>1</td>\n",
       "      <td>1115.10</td>\n",
       "      <td>1133.87</td>\n",
       "      <td>1115.10</td>\n",
       "      <td>1132.99</td>\n",
       "      <td>8.201090e+08</td>\n",
       "      <td>81.51</td>\n",
       "      <td>2.0750</td>\n",
       "      <td>2.1136</td>\n",
       "      <td>2.0671</td>\n",
       "      <td>2.1044</td>\n",
       "      <td>66994</td>\n",
       "      <td>232937.0</td>\n",
       "    </tr>\n",
       "    <tr>\n",
       "      <th>2010-01-05</th>\n",
       "      <td>2.1137</td>\n",
       "      <td>1</td>\n",
       "      <td>5</td>\n",
       "      <td>1</td>\n",
       "      <td>1</td>\n",
       "      <td>1</td>\n",
       "      <td>1132.99</td>\n",
       "      <td>1136.63</td>\n",
       "      <td>1129.66</td>\n",
       "      <td>1136.52</td>\n",
       "      <td>9.743752e+08</td>\n",
       "      <td>81.77</td>\n",
       "      <td>2.1111</td>\n",
       "      <td>2.1315</td>\n",
       "      <td>2.1004</td>\n",
       "      <td>2.1250</td>\n",
       "      <td>78884</td>\n",
       "      <td>239903.0</td>\n",
       "    </tr>\n",
       "    <tr>\n",
       "      <th>2010-01-06</th>\n",
       "      <td>2.1228</td>\n",
       "      <td>2</td>\n",
       "      <td>6</td>\n",
       "      <td>1</td>\n",
       "      <td>1</td>\n",
       "      <td>1</td>\n",
       "      <td>1136.52</td>\n",
       "      <td>1139.19</td>\n",
       "      <td>1133.95</td>\n",
       "      <td>1137.14</td>\n",
       "      <td>9.150847e+08</td>\n",
       "      <td>83.18</td>\n",
       "      <td>2.1187</td>\n",
       "      <td>2.1462</td>\n",
       "      <td>2.0933</td>\n",
       "      <td>2.1366</td>\n",
       "      <td>101809</td>\n",
       "      <td>246666.0</td>\n",
       "    </tr>\n",
       "    <tr>\n",
       "      <th>2010-01-07</th>\n",
       "      <td>2.1200</td>\n",
       "      <td>3</td>\n",
       "      <td>7</td>\n",
       "      <td>1</td>\n",
       "      <td>1</td>\n",
       "      <td>1</td>\n",
       "      <td>1137.14</td>\n",
       "      <td>1142.46</td>\n",
       "      <td>1131.32</td>\n",
       "      <td>1141.69</td>\n",
       "      <td>1.046512e+09</td>\n",
       "      <td>82.66</td>\n",
       "      <td>2.1400</td>\n",
       "      <td>2.1455</td>\n",
       "      <td>2.1212</td>\n",
       "      <td>2.1349</td>\n",
       "      <td>92094</td>\n",
       "      <td>251785.0</td>\n",
       "    </tr>\n",
       "    <tr>\n",
       "      <th>2010-01-08</th>\n",
       "      <td>2.1450</td>\n",
       "      <td>4</td>\n",
       "      <td>8</td>\n",
       "      <td>1</td>\n",
       "      <td>1</td>\n",
       "      <td>1</td>\n",
       "      <td>1141.69</td>\n",
       "      <td>1145.39</td>\n",
       "      <td>1136.22</td>\n",
       "      <td>1144.98</td>\n",
       "      <td>8.609633e+08</td>\n",
       "      <td>82.75</td>\n",
       "      <td>2.1370</td>\n",
       "      <td>2.1720</td>\n",
       "      <td>2.1162</td>\n",
       "      <td>2.1553</td>\n",
       "      <td>81527</td>\n",
       "      <td>256842.0</td>\n",
       "    </tr>\n",
       "  </tbody>\n",
       "</table>\n",
       "</div>"
      ],
      "text/plain": [
       "                 y  day_of_week  day_of_year  week  quarter  month  S&P_Open  \\\n",
       "Date                                                                           \n",
       "2010-01-04  2.0856            0            4     1        1      1   1115.10   \n",
       "2010-01-05  2.1137            1            5     1        1      1   1132.99   \n",
       "2010-01-06  2.1228            2            6     1        1      1   1136.52   \n",
       "2010-01-07  2.1200            3            7     1        1      1   1137.14   \n",
       "2010-01-08  2.1450            4            8     1        1      1   1141.69   \n",
       "\n",
       "            S&P_High  S&P_Low  S&P_Close    S&P_Volume  CO_Close  \\\n",
       "Date                                                               \n",
       "2010-01-04   1133.87  1115.10    1132.99  8.201090e+08     81.51   \n",
       "2010-01-05   1136.63  1129.66    1136.52  9.743752e+08     81.77   \n",
       "2010-01-06   1139.19  1133.95    1137.14  9.150847e+08     83.18   \n",
       "2010-01-07   1142.46  1131.32    1141.69  1.046512e+09     82.66   \n",
       "2010-01-08   1145.39  1136.22    1144.98  8.609633e+08     82.75   \n",
       "\n",
       "            RBOB_f__Open  RBOB_f__High  RBOB_f__Low  RBOB_f__Close  \\\n",
       "Date                                                                 \n",
       "2010-01-04        2.0750        2.1136       2.0671         2.1044   \n",
       "2010-01-05        2.1111        2.1315       2.1004         2.1250   \n",
       "2010-01-06        2.1187        2.1462       2.0933         2.1366   \n",
       "2010-01-07        2.1400        2.1455       2.1212         2.1349   \n",
       "2010-01-08        2.1370        2.1720       2.1162         2.1553   \n",
       "\n",
       "            RBOB_f__Volume  RBOB_f__OpenInt  \n",
       "Date                                         \n",
       "2010-01-04           66994         232937.0  \n",
       "2010-01-05           78884         239903.0  \n",
       "2010-01-06          101809         246666.0  \n",
       "2010-01-07           92094         251785.0  \n",
       "2010-01-08           81527         256842.0  "
      ]
     },
     "execution_count": 104,
     "metadata": {},
     "output_type": "execute_result"
    }
   ],
   "source": [
    "df.head()"
   ]
  },
  {
   "cell_type": "code",
   "execution_count": null,
   "metadata": {},
   "outputs": [],
   "source": []
  },
  {
   "cell_type": "code",
   "execution_count": null,
   "metadata": {},
   "outputs": [],
   "source": []
  },
  {
   "cell_type": "code",
   "execution_count": null,
   "metadata": {},
   "outputs": [],
   "source": []
  },
  {
   "cell_type": "code",
   "execution_count": null,
   "metadata": {},
   "outputs": [],
   "source": []
  },
  {
   "cell_type": "code",
   "execution_count": null,
   "metadata": {},
   "outputs": [],
   "source": []
  },
  {
   "cell_type": "code",
   "execution_count": null,
   "metadata": {},
   "outputs": [],
   "source": []
  },
  {
   "cell_type": "code",
   "execution_count": null,
   "metadata": {},
   "outputs": [],
   "source": []
  },
  {
   "cell_type": "code",
   "execution_count": null,
   "metadata": {},
   "outputs": [],
   "source": []
  }
 ],
 "metadata": {
  "kernelspec": {
   "display_name": "Python 3",
   "language": "python",
   "name": "python3"
  },
  "language_info": {
   "codemirror_mode": {
    "name": "ipython",
    "version": 3
   },
   "file_extension": ".py",
   "mimetype": "text/x-python",
   "name": "python",
   "nbconvert_exporter": "python",
   "pygments_lexer": "ipython3",
   "version": "3.7.3"
  }
 },
 "nbformat": 4,
 "nbformat_minor": 4
}
